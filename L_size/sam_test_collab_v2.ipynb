{
  "nbformat": 4,
  "nbformat_minor": 0,
  "metadata": {
    "colab": {
      "name": "TEST Image-GPT_Sample_with_Conditioning.ipynb",
      "provenance": [],
      "collapsed_sections": [
        "UjVa2W5f-6BB"
      ],
      "machine_shape": "hm"
    },
    "kernelspec": {
      "name": "python3",
      "display_name": "Python 3"
    },
    "accelerator": "GPU"
  },
  "cells": [
    {
      "cell_type": "markdown",
      "metadata": {
        "id": "oGskUEXmJIzs"
      },
      "source": [
        "Image GPT [https://openai.com/blog/image-gpt/](https://openai.com/blog/image-gpt/)\n",
        "\n",
        "Barebones demo, this just samples 32x32 images. That site shows lovely 64x64 images but the XL sized model isn't available. (Yet?)\n",
        "\n",
        "(Runtime)->(Run All) will work unless you get really unlucky with the GPU.\n",
        "\n",
        "Notebook by [https://twitter.com/jonathanfly](https://twitter.com/jonathanfly)\n",
        "\n",
        "Notebook modified to include conditional input by [Alfredo Peguero](https://twitter.com/alfredompeguero)"
      ]
    },
    {
      "cell_type": "markdown",
      "metadata": {
        "id": "OoWYiUzT_lLs"
      },
      "source": [
        "# Download Image-GPT"
      ]
    },
    {
      "cell_type": "code",
      "metadata": {
        "id": "TssZNq1DXarb",
        "colab": {
          "base_uri": "https://localhost:8080/"
        },
        "outputId": "8db7e7c3-891e-4150-e11b-f044cb49c794"
      },
      "source": [
        "!nvidia-smi #OpenAI says you need 16GB GPU for the large model, but it may work if you lower n_sub_batch on the others."
      ],
      "execution_count": 33,
      "outputs": [
        {
          "output_type": "stream",
          "text": [
            "Wed Mar 17 06:16:18 2021       \n",
            "+-----------------------------------------------------------------------------+\n",
            "| NVIDIA-SMI 460.56       Driver Version: 460.32.03    CUDA Version: 11.2     |\n",
            "|-------------------------------+----------------------+----------------------+\n",
            "| GPU  Name        Persistence-M| Bus-Id        Disp.A | Volatile Uncorr. ECC |\n",
            "| Fan  Temp  Perf  Pwr:Usage/Cap|         Memory-Usage | GPU-Util  Compute M. |\n",
            "|                               |                      |               MIG M. |\n",
            "|===============================+======================+======================|\n",
            "|   0  Tesla P100-PCIE...  Off  | 00000000:00:04.0 Off |                    0 |\n",
            "| N/A   40C    P0    34W / 250W |   1401MiB / 16280MiB |      0%      Default |\n",
            "|                               |                      |                  N/A |\n",
            "+-------------------------------+----------------------+----------------------+\n",
            "                                                                               \n",
            "+-----------------------------------------------------------------------------+\n",
            "| Processes:                                                                  |\n",
            "|  GPU   GI   CI        PID   Type   Process name                  GPU Memory |\n",
            "|        ID   ID                                                   Usage      |\n",
            "|=============================================================================|\n",
            "+-----------------------------------------------------------------------------+\n"
          ],
          "name": "stdout"
        }
      ]
    },
    {
      "cell_type": "code",
      "metadata": {
        "id": "P8iKEZQri1C4",
        "colab": {
          "base_uri": "https://localhost:8080/"
        },
        "outputId": "00ac5e3b-36ae-404a-b287-8011093e9140"
      },
      "source": [
        "!git clone https://github.com/openai/image-gpt.git\n",
        "!pip install tensorflow-gpu==1.15.0"
      ],
      "execution_count": 34,
      "outputs": [
        {
          "output_type": "stream",
          "text": [
            "fatal: destination path 'image-gpt' already exists and is not an empty directory.\n",
            "Requirement already satisfied: tensorflow-gpu==1.15.0 in /usr/local/lib/python3.7/dist-packages (1.15.0)\n",
            "Requirement already satisfied: six>=1.10.0 in /usr/local/lib/python3.7/dist-packages (from tensorflow-gpu==1.15.0) (1.15.0)\n",
            "Requirement already satisfied: keras-preprocessing>=1.0.5 in /usr/local/lib/python3.7/dist-packages (from tensorflow-gpu==1.15.0) (1.1.2)\n",
            "Requirement already satisfied: tensorboard<1.16.0,>=1.15.0 in /usr/local/lib/python3.7/dist-packages (from tensorflow-gpu==1.15.0) (1.15.0)\n",
            "Requirement already satisfied: wheel>=0.26 in /usr/local/lib/python3.7/dist-packages (from tensorflow-gpu==1.15.0) (0.36.2)\n",
            "Requirement already satisfied: numpy<2.0,>=1.16.0 in /usr/local/lib/python3.7/dist-packages (from tensorflow-gpu==1.15.0) (1.19.5)\n",
            "Requirement already satisfied: gast==0.2.2 in /usr/local/lib/python3.7/dist-packages (from tensorflow-gpu==1.15.0) (0.2.2)\n",
            "Requirement already satisfied: protobuf>=3.6.1 in /usr/local/lib/python3.7/dist-packages (from tensorflow-gpu==1.15.0) (3.12.4)\n",
            "Requirement already satisfied: grpcio>=1.8.6 in /usr/local/lib/python3.7/dist-packages (from tensorflow-gpu==1.15.0) (1.32.0)\n",
            "Requirement already satisfied: termcolor>=1.1.0 in /usr/local/lib/python3.7/dist-packages (from tensorflow-gpu==1.15.0) (1.1.0)\n",
            "Requirement already satisfied: keras-applications>=1.0.8 in /usr/local/lib/python3.7/dist-packages (from tensorflow-gpu==1.15.0) (1.0.8)\n",
            "Requirement already satisfied: absl-py>=0.7.0 in /usr/local/lib/python3.7/dist-packages (from tensorflow-gpu==1.15.0) (0.10.0)\n",
            "Requirement already satisfied: google-pasta>=0.1.6 in /usr/local/lib/python3.7/dist-packages (from tensorflow-gpu==1.15.0) (0.2.0)\n",
            "Requirement already satisfied: tensorflow-estimator==1.15.1 in /usr/local/lib/python3.7/dist-packages (from tensorflow-gpu==1.15.0) (1.15.1)\n",
            "Requirement already satisfied: astor>=0.6.0 in /usr/local/lib/python3.7/dist-packages (from tensorflow-gpu==1.15.0) (0.8.1)\n",
            "Requirement already satisfied: wrapt>=1.11.1 in /usr/local/lib/python3.7/dist-packages (from tensorflow-gpu==1.15.0) (1.12.1)\n",
            "Requirement already satisfied: opt-einsum>=2.3.2 in /usr/local/lib/python3.7/dist-packages (from tensorflow-gpu==1.15.0) (3.3.0)\n",
            "Requirement already satisfied: markdown>=2.6.8 in /usr/local/lib/python3.7/dist-packages (from tensorboard<1.16.0,>=1.15.0->tensorflow-gpu==1.15.0) (3.3.4)\n",
            "Requirement already satisfied: setuptools>=41.0.0 in /usr/local/lib/python3.7/dist-packages (from tensorboard<1.16.0,>=1.15.0->tensorflow-gpu==1.15.0) (54.0.0)\n",
            "Requirement already satisfied: werkzeug>=0.11.15 in /usr/local/lib/python3.7/dist-packages (from tensorboard<1.16.0,>=1.15.0->tensorflow-gpu==1.15.0) (1.0.1)\n",
            "Requirement already satisfied: h5py in /usr/local/lib/python3.7/dist-packages (from keras-applications>=1.0.8->tensorflow-gpu==1.15.0) (2.10.0)\n",
            "Requirement already satisfied: importlib-metadata; python_version < \"3.8\" in /usr/local/lib/python3.7/dist-packages (from markdown>=2.6.8->tensorboard<1.16.0,>=1.15.0->tensorflow-gpu==1.15.0) (3.7.2)\n",
            "Requirement already satisfied: typing-extensions>=3.6.4; python_version < \"3.8\" in /usr/local/lib/python3.7/dist-packages (from importlib-metadata; python_version < \"3.8\"->markdown>=2.6.8->tensorboard<1.16.0,>=1.15.0->tensorflow-gpu==1.15.0) (3.7.4.3)\n",
            "Requirement already satisfied: zipp>=0.5 in /usr/local/lib/python3.7/dist-packages (from importlib-metadata; python_version < \"3.8\"->markdown>=2.6.8->tensorboard<1.16.0,>=1.15.0->tensorflow-gpu==1.15.0) (3.4.1)\n"
          ],
          "name": "stdout"
        }
      ]
    },
    {
      "cell_type": "code",
      "metadata": {
        "id": "46kpjAMhXu6U",
        "colab": {
          "base_uri": "https://localhost:8080/"
        },
        "outputId": "6d1b181a-25a6-4844-d058-2f0a7916a6ca"
      },
      "source": [
        "%cd /content/image-gpt"
      ],
      "execution_count": 35,
      "outputs": [
        {
          "output_type": "stream",
          "text": [
            "/content/image-gpt\n"
          ],
          "name": "stdout"
        }
      ]
    },
    {
      "cell_type": "code",
      "metadata": {
        "id": "e0DcaUYv8LYf"
      },
      "source": [
        "model_sizes = [\"s\", \"m\", \"l\"] #small medium large, xl not available\n",
        "model_sizes = [\"s\"] #\"s\" #actually just download one\n",
        "n_sub_batch = 8 #8 is default, trying lowering if this doesn't work.\n",
        "n_px = 32 #32\n",
        "n_gpu = 1"
      ],
      "execution_count": 36,
      "outputs": []
    },
    {
      "cell_type": "code",
      "metadata": {
        "id": "ylcjIJcwXsFw",
        "colab": {
          "base_uri": "https://localhost:8080/"
        },
        "outputId": "08e36795-f204-4d97-cbe7-99f0d4727491"
      },
      "source": [
        "!mkdir -p /content/image-gpt/models\n",
        "!mkdir -p /content/image-gpt/clusters\n",
        "!mkdir -p /content/image-gpt/datasets\n",
        "\n",
        "for model_size in model_sizes:\n",
        "    !mkdir -p ./models/{model_size}\n",
        "    !python download.py --model {model_size} --ckpt 1000000 --download_dir ./models/{model_size} #models\n",
        "    #!python download.py --dataset imagenet --download_dir ./datasets/{model_size} #dataset\n",
        "    !python download.py --clusters --download_dir ./clusters/{model_size} #color clusters"
      ],
      "execution_count": 37,
      "outputs": [
        {
          "output_type": "stream",
          "text": [
            "input args:\n",
            " {\n",
            "    \"download_dir\":\"./models/s\",\n",
            "    \"bert\":false,\n",
            "    \"model\":\"s\",\n",
            "    \"ckpt\":\"1000000\",\n",
            "    \"clusters\":false,\n",
            "    \"dataset\":null\n",
            "}\n",
            "Fetching model.ckpt-1000000.data-00000-of-00032: 1.00kit [00:00, 1.02Mit/s]     \n",
            "Fetching model.ckpt-1000000.data-00001-of-00032: 31.5Mit [00:04, 7.34Mit/s]     \n",
            "Fetching model.ckpt-1000000.data-00002-of-00032: 28.3Mit [00:04, 6.21Mit/s]     \n",
            "Fetching model.ckpt-1000000.data-00003-of-00032: 28.3Mit [00:04, 6.37Mit/s]     \n",
            "Fetching model.ckpt-1000000.data-00004-of-00032: 28.3Mit [00:04, 6.86Mit/s]     \n",
            "Fetching model.ckpt-1000000.data-00005-of-00032: 31.5Mit [00:04, 6.56Mit/s]     \n",
            "Fetching model.ckpt-1000000.data-00006-of-00032: 30.4Mit [00:04, 7.19Mit/s]     \n",
            "Fetching model.ckpt-1000000.data-00007-of-00032: 28.3Mit [00:04, 6.33Mit/s]     \n",
            "Fetching model.ckpt-1000000.data-00008-of-00032: 31.5Mit [00:04, 6.60Mit/s]     \n",
            "Fetching model.ckpt-1000000.data-00009-of-00032: 29.4Mit [00:04, 6.12Mit/s]     \n",
            "Fetching model.ckpt-1000000.data-00010-of-00032: 31.5Mit [00:04, 7.57Mit/s]     \n",
            "Fetching model.ckpt-1000000.data-00011-of-00032: 31.5Mit [00:04, 6.56Mit/s]     \n",
            "Fetching model.ckpt-1000000.data-00012-of-00032: 30.4Mit [00:04, 6.83Mit/s]     \n",
            "Fetching model.ckpt-1000000.data-00013-of-00032: 28.3Mit [00:04, 6.02Mit/s]     \n",
            "Fetching model.ckpt-1000000.data-00014-of-00032: 31.5Mit [00:05, 6.23Mit/s]     \n",
            "Fetching model.ckpt-1000000.data-00015-of-00032: 32.5Mit [00:04, 6.91Mit/s]     \n",
            "Fetching model.ckpt-1000000.data-00016-of-00032: 31.5Mit [00:04, 7.00Mit/s]     \n",
            "Fetching model.ckpt-1000000.data-00017-of-00032: 28.3Mit [00:04, 6.85Mit/s]     \n",
            "Fetching model.ckpt-1000000.data-00018-of-00032: 29.4Mit [00:04, 6.94Mit/s]     \n",
            "Fetching model.ckpt-1000000.data-00019-of-00032: 28.3Mit [00:04, 6.51Mit/s]     \n",
            "Fetching model.ckpt-1000000.data-00020-of-00032: 28.3Mit [00:04, 6.72Mit/s]     \n",
            "Fetching model.ckpt-1000000.data-00021-of-00032: 28.3Mit [00:04, 6.89Mit/s]     \n",
            "Fetching model.ckpt-1000000.data-00022-of-00032: 30.4Mit [00:04, 7.17Mit/s]     \n",
            "Fetching model.ckpt-1000000.data-00023-of-00032: 30.4Mit [00:04, 7.13Mit/s]     \n",
            "Fetching model.ckpt-1000000.data-00024-of-00032: 29.4Mit [00:04, 6.44Mit/s]     \n",
            "Fetching model.ckpt-1000000.data-00025-of-00032: 28.3Mit [00:04, 6.87Mit/s]     \n",
            "Fetching model.ckpt-1000000.data-00026-of-00032: 28.3Mit [00:04, 6.33Mit/s]     \n",
            "Fetching model.ckpt-1000000.data-00027-of-00032: 29.4Mit [00:04, 6.61Mit/s]     \n",
            "Fetching model.ckpt-1000000.data-00028-of-00032: 29.4Mit [00:04, 6.76Mit/s]     \n",
            "Fetching model.ckpt-1000000.data-00029-of-00032: 29.4Mit [00:04, 7.15Mit/s]     \n",
            "Fetching model.ckpt-1000000.data-00030-of-00032: 28.3Mit [00:04, 6.88Mit/s]     \n",
            "Fetching model.ckpt-1000000.data-00031-of-00032: 28.3Mit [00:04, 7.06Mit/s]     \n",
            "Fetching model.ckpt-1000000.index: 10.0kit [00:00, 8.42Mit/s]                   \n",
            "Fetching model.ckpt-1000000.meta: 18.4Mit [00:03, 5.05Mit/s]                    \n",
            "input args:\n",
            " {\n",
            "    \"download_dir\":\"./clusters/s\",\n",
            "    \"bert\":false,\n",
            "    \"model\":null,\n",
            "    \"ckpt\":null,\n",
            "    \"clusters\":true,\n",
            "    \"dataset\":null\n",
            "}\n",
            "Fetching kmeans_centers.npy: 7.00kit [00:00, 6.94Mit/s]                         \n"
          ],
          "name": "stdout"
        }
      ]
    },
    {
      "cell_type": "code",
      "metadata": {
        "id": "tauyrqoCGIeD"
      },
      "source": [
        "model_size = \"s\""
      ],
      "execution_count": 38,
      "outputs": []
    },
    {
      "cell_type": "markdown",
      "metadata": {
        "id": "8ukKzRMrFBYb"
      },
      "source": [
        "# Setup cropped images for conditioning"
      ]
    },
    {
      "cell_type": "code",
      "metadata": {
        "id": "sriUPI4YANqM"
      },
      "source": [
        "#numpy implementation of functions in src/utils which convert pixels of image to nearest color cluster. \n",
        "def normalize_img(img):\n",
        "  return img/127.5 - 1\n",
        "\n",
        "def squared_euclidean_distance_np(a,b):\n",
        "  b = b.T\n",
        "  a2 = np.sum(np.square(a),axis=1)\n",
        "  b2 = np.sum(np.square(b),axis=0)\n",
        "  ab = np.matmul(a,b)\n",
        "  d = a2[:,None] - 2*ab + b2[None,:]\n",
        "  return d\n",
        "\n",
        "def color_quantize_np(x, clusters):\n",
        "    x = x.reshape(-1, 3)\n",
        "    d = squared_euclidean_distance_np(x, clusters)\n",
        "    return np.argmin(d,axis=1)"
      ],
      "execution_count": 39,
      "outputs": []
    },
    {
      "cell_type": "code",
      "metadata": {
        "id": "Oj7D8MjkiPRo",
        "colab": {
          "base_uri": "https://localhost:8080/"
        },
        "outputId": "4d71e9f0-0045-47d4-e8ca-4ff64b0abfe0"
      },
      "source": [
        "#get images\n",
        "#!curl https://i.imgur.com/vF56Fsib.jpg > kp.jpg\n",
        "\n",
        "#!curl https://i.imgur.com/CT9g3qp.png > kp.png\n",
        "#!curl https://i.imgur.com/7VwPbII.png > kp.png\n",
        "!curl https://i.imgur.com/y3p2zpq.png > kp.png\n",
        "image_paths = [\"kp.png\"]*(n_gpu*n_sub_batch)"
      ],
      "execution_count": 40,
      "outputs": [
        {
          "output_type": "stream",
          "text": [
            "  % Total    % Received % Xferd  Average Speed   Time    Time     Time  Current\n",
            "                                 Dload  Upload   Total   Spent    Left  Speed\n",
            "100 11857  100 11857    0     0  99638      0 --:--:-- --:--:-- --:--:-- 98808\n"
          ],
          "name": "stdout"
        }
      ]
    },
    {
      "cell_type": "code",
      "metadata": {
        "id": "khyeR9aC9kOH"
      },
      "source": [
        "#Resize original images to n_px by n_px\n",
        "import cv2\n",
        "import numpy as np\n",
        "dim=(n_px,n_px)\n",
        "\n",
        "x = np.zeros((n_gpu*n_sub_batch,n_px,n_px,3),dtype=np.uint8)\n",
        "\n",
        "for n,image_path in enumerate(image_paths):\n",
        "  img_np = cv2.imread(image_path)   # reads an image in the BGR format\n",
        "  img_np = cv2.cvtColor(img_np, cv2.COLOR_BGR2RGB)   # BGR -> RGB\n",
        "  H,W,C = img_np.shape\n",
        "  D = min(H,W)\n",
        "  img_np = img_np[:D,:D,:C] #get square piece of image\n",
        "  x[n] = cv2.resize(img_np,dim, interpolation = cv2.INTER_AREA) #resize to n_px by n_px\n",
        "  "
      ],
      "execution_count": 41,
      "outputs": []
    },
    {
      "cell_type": "code",
      "metadata": {
        "id": "oZJGAwLxGuXi",
        "colab": {
          "base_uri": "https://localhost:8080/",
          "height": 191
        },
        "outputId": "f5ef42ec-8182-4d83-e438-18e8cb905a34"
      },
      "source": [
        "#visualize resized images\n",
        "%matplotlib inline\n",
        "import pathlib\n",
        "import matplotlib.pyplot as plt\n",
        "import matplotlib.image as mpimg\n",
        "\n",
        "f, axarr = plt.subplots(1,8,dpi=180)\n",
        "\n",
        "i = 0\n",
        "for img in x:\n",
        "    axarr[i].imshow(img)\n",
        "    i += 1"
      ],
      "execution_count": 42,
      "outputs": [
        {
          "output_type": "display_data",
          "data": {
            "image/png": "[encoded data removed]",
            "text/plain": [
              "<Figure size 1080x720 with 8 Axes>"
            ]
          },
          "metadata": {
            "tags": [],
            "needs_background": "light"
          }
        }
      ]
    },
    {
      "cell_type": "code",
      "metadata": {
        "id": "QccafXMDTgaj"
      },
      "source": [
        "#use Image-GPT color palette and crop images\n",
        "\n",
        "color_cluster_path = \"/content/image-gpt/clusters/%s/kmeans_centers.npy\"%(model_size)\n",
        "clusters = np.load(color_cluster_path) #get color clusters\n",
        "x_norm = normalize_img(x) #normalize pixels values to -1 to +1\n",
        "\n",
        "samples = color_quantize_np(x_norm,clusters).reshape(x_norm.shape[:-1]) #map pixels to closest color cluster\n",
        "\n",
        "n_px_crop = int(n_px/2) #8\n",
        "primers = samples.reshape(-1,n_px*n_px)[:,:n_px_crop*n_px] # crop top n_px_crop rows"
      ],
      "execution_count": 43,
      "outputs": []
    },
    {
      "cell_type": "code",
      "metadata": {
        "id": "ON0A6H8kUWhW",
        "colab": {
          "base_uri": "https://localhost:8080/",
          "height": 321
        },
        "outputId": "0e099767-500d-44ca-d03f-85b42f309a45"
      },
      "source": [
        "\n",
        "#visualize samples and crops with Image-GPT color palette. Should look similar to original resized images\n",
        "%matplotlib inline\n",
        "import pathlib\n",
        "import matplotlib.pyplot as plt\n",
        "import matplotlib.image as mpimg\n",
        "\n",
        "samples_img = [np.reshape(np.rint(127.5 * (clusters[s] + 1.0)), [n_px, n_px, 3]).astype(np.uint8) for s in samples] # convert color clusters back to pixels\n",
        "primers_img = [np.reshape(np.rint(127.5 * (clusters[s] + 1.0)), [n_px_crop,n_px, 3]).astype(np.uint8) for s in primers] # convert color clusters back to pixels\n",
        "\n",
        "f, axarr2 = plt.subplots(1,8,dpi=180)\n",
        "i = 0\n",
        "for img in samples_img:\n",
        "    axarr2[i].imshow(img)\n",
        "    i += 1\n",
        "\n",
        "f, axarr = plt.subplots(1,8,dpi=180)\n",
        "i = 0\n",
        "for img in primers_img:\n",
        "    axarr[i].imshow(img)\n",
        "    i += 1"
      ],
      "execution_count": 44,
      "outputs": [
        {
          "output_type": "display_data",
          "data": {
            "image/png": "[encoded data removed]",
            "text/plain": [
              "<Figure size 1080x720 with 8 Axes>"
            ]
          },
          "metadata": {
            "tags": [],
            "needs_background": "light"
          }
        },
        {
          "output_type": "display_data",
          "data": {
            "image/png": "[encoded data removed]",
            "text/plain": [
              "<Figure size 1080x720 with 8 Axes>"
            ]
          },
          "metadata": {
            "tags": [],
            "needs_background": "light"
          }
        }
      ]
    },
    {
      "cell_type": "markdown",
      "metadata": {
        "id": "UjVa2W5f-6BB"
      },
      "source": [
        "# Functions from run.py\n"
      ]
    },
    {
      "cell_type": "code",
      "metadata": {
        "id": "L4gn7wHcKWCn"
      },
      "source": [
        "\n",
        "import argparse\n",
        "import json\n",
        "import math\n",
        "import os\n",
        "import random\n",
        "import sys\n",
        "import time\n",
        "sys.path.append('src')\n",
        "\n",
        "import numpy as np\n",
        "import tensorflow as tf\n",
        "\n",
        "from imageio import imwrite\n",
        "from scipy.special import softmax\n",
        "from tensorflow.contrib.training import HParams\n",
        "from tqdm import tqdm\n",
        "\n",
        "from model import model\n",
        "from utils import iter_data, count_parameters\n",
        "\n",
        "\n",
        "def parse_arguments():\n",
        "    parser = argparse.ArgumentParser()\n",
        "\n",
        "    # data and I/O\n",
        "    parser.add_argument(\"--data_path\", type=str, default=\"/root/downloads/imagenet\")\n",
        "    parser.add_argument(\"--ckpt_path\", type=str, default=\"/root/downloads/model.ckpt-1000000\")\n",
        "    parser.add_argument(\"--color_cluster_path\", type=str, default=\"/root/downloads/kmeans_centers.npy\")\n",
        "    parser.add_argument(\"--save_dir\", type=str, default=\"/root/save/\")\n",
        "\n",
        "    # model\n",
        "    parser.add_argument(\"--n_embd\", type=int, default=512)\n",
        "    parser.add_argument(\"--n_head\", type=int, default=8)\n",
        "    parser.add_argument(\"--n_layer\", type=int, default=24)\n",
        "    parser.add_argument(\"--n_px\", type=int, default=32, help=\"image height or width in pixels\")\n",
        "    parser.add_argument(\"--n_vocab\", type=int, default=512, help=\"possible values for each pixel\")\n",
        "\n",
        "    parser.add_argument(\"--bert\", action=\"store_true\", help=\"use the bert objective (defaut: autoregressive)\")\n",
        "    parser.add_argument(\"--bert_mask_prob\", type=float, default=0.15)\n",
        "    parser.add_argument(\"--clf\", action=\"store_true\", help=\"add a learnable classification head\")\n",
        "\n",
        "    # parallelism\n",
        "    parser.add_argument(\"--n_sub_batch\", type=int, default=8, help=\"per-gpu batch size\")\n",
        "    parser.add_argument(\"--n_gpu\", type=int, default=8, help=\"number of gpus to distribute training across\")\n",
        "\n",
        "    # mode\n",
        "    parser.add_argument(\"--eval\", action=\"store_true\", help=\"evaluates the model, requires a checkpoint and dataset\")\n",
        "    parser.add_argument(\"--sample\", action=\"store_true\", help=\"samples from the model, requires a checkpoint and clusters\")\n",
        "\n",
        "    # reproducibility\n",
        "    parser.add_argument(\"--seed\", type=int, default=42, help=\"seed for random, np, tf\")\n",
        "\n",
        "    args = parser.parse_args()\n",
        "    print(\"input args:\\n\", json.dumps(vars(args), indent=4, separators=(\",\", \":\")))\n",
        "    return args\n",
        "\n",
        "\n",
        "def set_seed(seed):\n",
        "    random.seed(seed)\n",
        "    np.random.seed(seed)\n",
        "    tf.set_random_seed(seed)\n",
        "\n",
        "\n",
        "def load_data(data_path):\n",
        "    trX = np.load(f'{data_path}_trX.npy')\n",
        "    trY = np.load(f'{data_path}_trY.npy')\n",
        "    vaX = np.load(f'{data_path}_vaX.npy')\n",
        "    vaY = np.load(f'{data_path}_vaY.npy')\n",
        "    teX = np.load(f'{data_path}_teX.npy')\n",
        "    teY = np.load(f'{data_path}_teY.npy')\n",
        "    return (trX, trY), (vaX, vaY), (teX, teY)\n",
        "\n",
        "\n",
        "def set_hparams(args):\n",
        "    return HParams(\n",
        "        n_ctx=args.n_px*args.n_px,\n",
        "        n_embd=args.n_embd,\n",
        "        n_head=args.n_head,\n",
        "        n_layer=args.n_layer,\n",
        "        n_vocab=args.n_vocab,\n",
        "        bert=args.bert,\n",
        "        bert_mask_prob=args.bert_mask_prob,\n",
        "        clf=args.clf,\n",
        "    )\n",
        "\n",
        "\n",
        "def create_model(x, y, n_gpu, hparams):\n",
        "    gen_logits = []\n",
        "    gen_loss = []\n",
        "    clf_loss = []\n",
        "    tot_loss = []\n",
        "    accuracy = []\n",
        "\n",
        "    trainable_params = None\n",
        "    for i in range(n_gpu):\n",
        "        with tf.device(\"/gpu:%d\" % i):\n",
        "            results = model(hparams, x[i], y[i], reuse=(i != 0))\n",
        "\n",
        "            gen_logits.append(results[\"gen_logits\"])\n",
        "            gen_loss.append(results[\"gen_loss\"])\n",
        "            clf_loss.append(results[\"clf_loss\"])\n",
        "\n",
        "            if hparams.clf:\n",
        "                tot_loss.append(results[\"gen_loss\"] + results[\"clf_loss\"])\n",
        "            else:\n",
        "                tot_loss.append(results[\"gen_loss\"])\n",
        "\n",
        "            accuracy.append(results[\"accuracy\"])\n",
        "\n",
        "            if i == 0:\n",
        "                trainable_params = tf.trainable_variables()\n",
        "                print(\"trainable parameters:\", count_parameters())\n",
        "\n",
        "    return trainable_params, gen_logits, gen_loss, clf_loss, tot_loss, accuracy\n",
        "\n",
        "\n",
        "def reduce_mean(gen_loss, clf_loss, tot_loss, accuracy, n_gpu):\n",
        "    with tf.device(\"/gpu:0\"):\n",
        "        for i in range(1, n_gpu):\n",
        "            gen_loss[0] += gen_loss[i]\n",
        "            clf_loss[0] += clf_loss[i]\n",
        "            tot_loss[0] += tot_loss[i]\n",
        "            accuracy[0] += accuracy[i]\n",
        "        gen_loss[0] /= n_gpu\n",
        "        clf_loss[0] /= n_gpu\n",
        "        tot_loss[0] /= n_gpu\n",
        "        accuracy[0] /= n_gpu\n",
        "\n",
        "\n",
        "def evaluate(sess, evX, evY, X, Y, gen_loss, clf_loss, accuracy, n_batch, desc, permute=False):\n",
        "    metrics = []\n",
        "    for xmb, ymb in iter_data(evX, evY, n_batch=n_batch, truncate=True, verbose=True):\n",
        "        metrics.append(sess.run([gen_loss[0], clf_loss[0], accuracy[0]], {X: xmb, Y: ymb}))\n",
        "    eval_gen_loss, eval_clf_loss, eval_accuracy = [np.mean(m) for m in zip(*metrics)]\n",
        "    print(f\"{desc} gen: {eval_gen_loss:.4f} clf: {eval_clf_loss:.4f} acc: {eval_accuracy:.2f}\")\n",
        "\n",
        "\n",
        "# naive sampler without caching\n",
        "def sample(sess, X, gen_logits, n_sub_batch, n_gpu, n_px, n_vocab, clusters, save_dir,primers=None):\n",
        "  \n",
        "    samples = np.zeros([n_gpu * n_sub_batch, n_px * n_px], dtype=np.int32)\n",
        "\n",
        "    if primers is None:\n",
        "      N_cond_px = 0\n",
        "    else:\n",
        "      N_cond_px = primers.shape[1]\n",
        "      samples[:,:N_cond_px] = primers\n",
        "      \n",
        "\n",
        "    print('Conditioning on %d out of %d pixels'%(N_cond_px,n_px*n_px))\n",
        "    for i in tqdm(range(N_cond_px,n_px * n_px), ncols=80, leave=False):\n",
        "        np_gen_logits = sess.run(gen_logits, {X: samples})\n",
        "        for j in range(n_gpu):\n",
        "            p = softmax(np_gen_logits[j][:, i, :], axis=-1)  # logits to probas\n",
        "            for k in range(n_sub_batch):\n",
        "                c = np.random.choice(n_vocab, p=p[k])  # choose based on probas\n",
        "                samples[j * n_sub_batch + k, i] = c\n",
        "    \n",
        "    # dequantize\n",
        "    samples = [np.reshape(np.rint(127.5 * (clusters[s] + 1.0)), [32, 32, 3]).astype(np.uint8) for s in samples]\n",
        "\n",
        "    # write to png\n",
        "    for i in range(n_gpu * n_sub_batch):\n",
        "        imwrite(f\"{args.save_dir}/seed_{args.seed}_sample_{i}.png\", samples[i])\n",
        "\n",
        "\n",
        "def main(args,primers=None):\n",
        "    tf.reset_default_graph()\n",
        "    set_seed(args.seed)\n",
        "\n",
        "    n_batch = args.n_sub_batch * args.n_gpu\n",
        "\n",
        "    if args.sample:\n",
        "        n_class = 1000\n",
        "        print(\"Skipping dataset requirement for sampling.\")\n",
        "    else:\n",
        "        if args.data_path.endswith(\"cifar10\"):\n",
        "            n_class = 10\n",
        "        elif args.data_path.endswith(\"imagenet\"):\n",
        "            n_class = 1000\n",
        "        else:\n",
        "            raise ValueError(\"Dataset not supported.\")\n",
        "\n",
        "    X = tf.placeholder(tf.int32, [n_batch, args.n_px * args.n_px])\n",
        "    Y = tf.placeholder(tf.float32, [n_batch, n_class])\n",
        "\n",
        "    x = tf.split(X, args.n_gpu, 0)\n",
        "    y = tf.split(Y, args.n_gpu, 0)\n",
        "\n",
        "    hparams = set_hparams(args)\n",
        "    trainable_params, gen_logits, gen_loss, clf_loss, tot_loss, accuracy = create_model(x, y, args.n_gpu, hparams)\n",
        "    reduce_mean(gen_loss, clf_loss, tot_loss, accuracy, args.n_gpu)\n",
        "\n",
        "    saver = tf.train.Saver(var_list=[tp for tp in trainable_params if not 'clf' in tp.name])\n",
        "    with tf.Session(config=tf.ConfigProto(allow_soft_placement=True, log_device_placement=False)) as sess:\n",
        "        sess.run(tf.global_variables_initializer())\n",
        "\n",
        "        saver.restore(sess, args.ckpt_path)\n",
        "\n",
        "        if args.eval:\n",
        "            (trX, trY), (vaX, vaY), (teX, teY) = load_data(args.data_path)\n",
        "            evaluate(sess, trX[:len(vaX)], trY[:len(vaY)], X, Y, gen_loss, clf_loss, accuracy, n_batch, \"train\")\n",
        "            evaluate(sess, vaX, vaY, X, Y, gen_loss, clf_loss, accuracy, n_batch, \"valid\")\n",
        "            evaluate(sess, teX, teY, X, Y, gen_loss, clf_loss, accuracy, n_batch, \"test\")\n",
        "\n",
        "        if args.sample:\n",
        "            if not os.path.exists(args.save_dir):\n",
        "                os.makedirs(args.save_dir)\n",
        "            clusters = np.load(args.color_cluster_path)\n",
        "            sample(sess, X, gen_logits, args.n_sub_batch, args.n_gpu, args.n_px, args.n_vocab, clusters, args.save_dir,primers=primers)\n",
        "\n"
      ],
      "execution_count": 45,
      "outputs": []
    },
    {
      "cell_type": "markdown",
      "metadata": {
        "id": "70aBx7tw_Ukc"
      },
      "source": [
        "# Sample"
      ]
    },
    {
      "cell_type": "code",
      "metadata": {
        "id": "9PfdQPv4TmK7"
      },
      "source": [
        "#set model hyperparameters\n",
        "MODELS={\"l\":(1536,16,48),\"m\":(1024,8,36),\"s\":(512,8,24) }\n",
        "n_embd,n_head,n_layer=MODELS[model_size]"
      ],
      "execution_count": 46,
      "outputs": []
    },
    {
      "cell_type": "code",
      "metadata": {
        "id": "AwuR8Wq7KgnL",
        "colab": {
          "base_uri": "https://localhost:8080/"
        },
        "outputId": "0df90c14-c615-4e01-8724-96fb2308b78f"
      },
      "source": [
        "\n",
        "sys.argv=\"\"\"src/run.py  --sample --n_embd %d --n_head %d --n_layer %d\n",
        "--ckpt_path /content/image-gpt/models/%s/model.ckpt-1000000 --color_cluster_path /content/image-gpt/clusters/%s/kmeans_centers.npy \n",
        "--data_path /content/image-gpt/datasets/s/imagenet_notused --save_dir /content/image-gpt/output \n",
        "--n_gpu %d --n_px %d --n_sub_batch %d --seed 42\"\"\"%(n_embd,n_head,n_layer,model_size,model_size,n_gpu,n_px,n_sub_batch)\n",
        "\n",
        "sys.argv=sys.argv.split()\n",
        "\n",
        "args = parse_arguments()\n",
        "\n",
        "main(args,primers=primers) #conditional generation\n",
        "#main(args) #unconditional generation"
      ],
      "execution_count": 47,
      "outputs": [
        {
          "output_type": "stream",
          "text": [
            "input args:\n",
            " {\n",
            "    \"data_path\":\"/content/image-gpt/datasets/s/imagenet_notused\",\n",
            "    \"ckpt_path\":\"/content/image-gpt/models/s/model.ckpt-1000000\",\n",
            "    \"color_cluster_path\":\"/content/image-gpt/clusters/s/kmeans_centers.npy\",\n",
            "    \"save_dir\":\"/content/image-gpt/output\",\n",
            "    \"n_embd\":512,\n",
            "    \"n_head\":8,\n",
            "    \"n_layer\":24,\n",
            "    \"n_px\":32,\n",
            "    \"n_vocab\":512,\n",
            "    \"bert\":false,\n",
            "    \"bert_mask_prob\":0.15,\n",
            "    \"clf\":false,\n",
            "    \"n_sub_batch\":8,\n",
            "    \"n_gpu\":1,\n",
            "    \"eval\":false,\n",
            "    \"sample\":true,\n",
            "    \"seed\":42\n",
            "}\n",
            "Skipping dataset requirement for sampling.\n",
            "trainable parameters: 76571648\n",
            "INFO:tensorflow:Restoring parameters from /content/image-gpt/models/s/model.ckpt-1000000\n"
          ],
          "name": "stdout"
        },
        {
          "output_type": "stream",
          "text": [
            "\r  0%|                                                   | 0/512 [00:00<?, ?it/s]"
          ],
          "name": "stderr"
        },
        {
          "output_type": "stream",
          "text": [
            "Conditioning on 512 out of 1024 pixels\n"
          ],
          "name": "stdout"
        },
        {
          "output_type": "stream",
          "text": [
            ""
          ],
          "name": "stderr"
        }
      ]
    },
    {
      "cell_type": "code",
      "metadata": {
        "id": "4s522c8lGqy5",
        "colab": {
          "base_uri": "https://localhost:8080/",
          "height": 191
        },
        "outputId": "3dbd2952-e73b-41ee-8645-cd4107d886ba"
      },
      "source": [
        "#visualize output samples\n",
        "%matplotlib inline\n",
        "import pathlib\n",
        "import matplotlib.pyplot as plt\n",
        "import matplotlib.image as mpimg\n",
        "import glob\n",
        "\n",
        "samples = pathlib.Path('/content/image-gpt/output').glob('*.png')\n",
        "\n",
        "f, axarr = plt.subplots(1,len(glob.glob('/content/image-gpt/output/*.png')),dpi=180)\n",
        "\n",
        "i = 0\n",
        "for image in samples:\n",
        "    axarr[i].imshow(mpimg.imread(image))\n",
        "    i += 1"
      ],
      "execution_count": 48,
      "outputs": [
        {
          "output_type": "display_data",
          "data": {
            "image/png": "[encoded data removed]",
            "text/plain": [
              "<Figure size 1080x720 with 8 Axes>"
            ]
          },
          "metadata": {
            "tags": [],
            "needs_background": "light"
          }
        }
      ]
    }
  ]
}